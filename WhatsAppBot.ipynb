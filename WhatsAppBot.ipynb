{
 "cells": [
  {
   "cell_type": "code",
   "execution_count": 1,
   "id": "2ebb18cb-3f47-45a2-b56d-e3cb134b0488",
   "metadata": {},
   "outputs": [],
   "source": [
    "#Import all the necessary library\n",
    "import time\n",
    "import json\n",
    "from selenium import webdriver\n",
    "from selenium.webdriver.chrome.service import Service\n",
    "from selenium.webdriver.common.by import By\n",
    "from selenium.webdriver.common.keys import Keys\n",
    "from selenium.webdriver.support.ui import WebDriverWait\n",
    "from selenium.webdriver.support import expected_conditions as EC"
   ]
  },
  {
   "cell_type": "code",
   "execution_count": 3,
   "id": "bc9ba38f-f4a7-4a08-83f2-547b8ba73035",
   "metadata": {},
   "outputs": [],
   "source": [
    "#Fill all these\n",
    "json_file_path = 'file.json'\n",
    "group_name=\"Testing\"\n",
    "user_data_dir = \"\"\n",
    "profile_directory = \"Default\"\n",
    "driver_path = \"\"\n",
    "url=\"https://web.whatsapp.com\""
   ]
  },
  {
   "cell_type": "code",
   "execution_count": 5,
   "id": "2cbff3cb-a665-4c9f-8a77-7b98c7f833d1",
   "metadata": {},
   "outputs": [],
   "source": [
    "def load_data(file_path):\n",
    "    \"\"\"Loads data from a JSON file.\"\"\"\n",
    "    try:\n",
    "        with open(file_path, 'r') as file:\n",
    "            data = json.load(file)\n",
    "            return data.get(\"Message\", {})\n",
    "    except Exception as e:\n",
    "        print(f\"Error loading file: {e}\")\n",
    "        return {}\n",
    "        \n",
    "def initialize_driver(user_data_dir, profile_dir, driver_path):\n",
    "    \"\"\"Initializes the Selenium WebDriver with a user profile.\"\"\"\n",
    "    options = webdriver.ChromeOptions()\n",
    "    options.add_argument(f\"user-data-dir={user_data_dir}\")\n",
    "    options.add_argument(f\"profile-directory={profile_dir}\")\n",
    "    service = Service(driver_path)\n",
    "    return webdriver.Chrome(service=service, options=options)\n",
    "\n",
    "def construct_message(detail_list):\n",
    "    \"\"\"Constructs a structured message dynamically from the job details.\"\"\"\n",
    "    message = \"\"\n",
    "    for key, value in detail_list.items():\n",
    "        formatted_key = key.capitalize().replace('_', ' ')  # Format key for better readability\n",
    "        message += f\"{formatted_key}: {value}\\n\"  # Append the formatted key-value pair to the message\n",
    "    return message\n",
    "\n",
    " # Replace with your group name\n",
    "def send_message(driver, group_name, message):\n",
    "    try:\n",
    "        # Locate the group by title and click to open chat\n",
    "        user = driver.find_element(By.XPATH, f\"//span[@title='{group_name}']\")\n",
    "        user.click()\n",
    "        print(f\"Clicked on group: {group_name}\")\n",
    "    except Exception as e:\n",
    "        print(f\"Error clicking on group: {e}\")\n",
    "        return\n",
    "\n",
    "    try:\n",
    "        # Locate the message box\n",
    "        text_box = driver.find_element(By.XPATH, '//*[@id=\"main\"]/footer/div[1]/div/span/div/div[2]/div[1]/div/div[1]/p')  \n",
    "        \n",
    "        # Type the message without additional SHIFT+ENTER handling\n",
    "        for line in message.split('\\n'):\n",
    "            text_box.send_keys(line)  # Type the line\n",
    "            text_box.send_keys(Keys.SHIFT, Keys.ENTER)  # Add a line break for multi-line messages\n",
    "\n",
    "        # Send the message\n",
    "        text_box.send_keys(Keys.ENTER)\n",
    "        print(\"Message sent successfully!\")\n",
    "    except Exception as e:\n",
    "        print(f\"Error sending message: {e}\")"
   ]
  },
  {
   "cell_type": "code",
   "execution_count": 7,
   "id": "707efaf9-d9fe-47ab-971c-b5d2a6235b0a",
   "metadata": {},
   "outputs": [],
   "source": [
    "#loading the json file\n",
    "detail_list = load_data(json_file_path)"
   ]
  },
  {
   "cell_type": "code",
   "execution_count": 9,
   "id": "95be2ac2-9c39-4ade-a281-aa7274255eea",
   "metadata": {},
   "outputs": [],
   "source": [
    "#Initailizing the driver\n",
    "driver = initialize_driver(user_data_dir, profile_directory, driver_path)"
   ]
  },
  {
   "cell_type": "code",
   "execution_count": 11,
   "id": "bf1a6bd4-c531-46e7-b041-55a3b480e2b0",
   "metadata": {},
   "outputs": [
    {
     "name": "stdout",
     "output_type": "stream",
     "text": [
      "Title: The Enigma of Time\n",
      "Author: Amelia Harper\n",
      "Genre: Science Fiction\n",
      "Publicationdate: 2023-09-12\n",
      "Pages: 354\n",
      "Language: English\n",
      "Isbn: 978-3-16-148410-0\n",
      "Rating: 4.7/5\n",
      "Summary: A gripping tale exploring the mysteries of time travel and human resilience.\n",
      "Publisher: Stellar Press\n",
      "\n"
     ]
    }
   ],
   "source": [
    "driver.get(url)\n",
    "WebDriverWait(driver, 30).until(\n",
    "EC.presence_of_element_located((By.XPATH, \"//div[@id='pane-side']\")))\n",
    "message = construct_message(detail_list)\n",
    "print(message)"
   ]
  },
  {
   "cell_type": "code",
   "execution_count": 13,
   "id": "6dd82e67-63ef-45b8-b2c3-45966247ecea",
   "metadata": {},
   "outputs": [
    {
     "name": "stdout",
     "output_type": "stream",
     "text": [
      "Clicked on group: Testing\n",
      "Message sent successfully!\n"
     ]
    }
   ],
   "source": [
    "send_message(driver, group_name, message)"
   ]
  },
  {
   "cell_type": "code",
   "execution_count": null,
   "id": "6b1e9861-e3cd-454b-9823-9742c075ff72",
   "metadata": {},
   "outputs": [],
   "source": []
  }
 ],
 "metadata": {
  "kernelspec": {
   "display_name": "Python 3 (ipykernel)",
   "language": "python",
   "name": "python3"
  },
  "language_info": {
   "codemirror_mode": {
    "name": "ipython",
    "version": 3
   },
   "file_extension": ".py",
   "mimetype": "text/x-python",
   "name": "python",
   "nbconvert_exporter": "python",
   "pygments_lexer": "ipython3",
   "version": "3.12.7"
  }
 },
 "nbformat": 4,
 "nbformat_minor": 5
}
